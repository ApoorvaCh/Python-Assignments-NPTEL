{
 "cells": [
  {
   "cell_type": "code",
   "execution_count": 1,
   "metadata": {},
   "outputs": [
    {
     "data": {
      "text/plain": [
       "'\\n1. Write a function intreverse(n) that takes as input a positive integer n and returns the integer obtained by reversing the digits in n.\\n\\nHere are some examples of how your function should work.\\n\\n>>> intreverse(783)\\n387\\n>>> intreverse(242789)\\n987242\\n>>> intreverse(3)\\n3\\n'"
      ]
     },
     "execution_count": 1,
     "metadata": {},
     "output_type": "execute_result"
    }
   ],
   "source": [
    "'''\n",
    "1. Write a function intreverse(n) that takes as input a positive integer n and returns the integer obtained by reversing the digits in n.\n",
    "\n",
    "Here are some examples of how your function should work.\n",
    "\n",
    ">>> intreverse(783)\n",
    "387\n",
    ">>> intreverse(242789)\n",
    "987242\n",
    ">>> intreverse(3)\n",
    "3\n",
    "'''"
   ]
  },
  {
   "cell_type": "code",
   "execution_count": 2,
   "metadata": {},
   "outputs": [],
   "source": [
    "def intreverse(n: int) -> int:\n",
    "    temp = 0\n",
    "    while n:\n",
    "        temp = (temp*10) + (n%10)\n",
    "        n = n//10\n",
    "    return temp"
   ]
  },
  {
   "cell_type": "code",
   "execution_count": 3,
   "metadata": {},
   "outputs": [
    {
     "data": {
      "text/plain": [
       "387"
      ]
     },
     "execution_count": 3,
     "metadata": {},
     "output_type": "execute_result"
    }
   ],
   "source": [
    "intreverse(783)"
   ]
  },
  {
   "cell_type": "code",
   "execution_count": 4,
   "metadata": {},
   "outputs": [
    {
     "data": {
      "text/plain": [
       "987242"
      ]
     },
     "execution_count": 4,
     "metadata": {},
     "output_type": "execute_result"
    }
   ],
   "source": [
    "intreverse(242789)"
   ]
  },
  {
   "cell_type": "code",
   "execution_count": 5,
   "metadata": {},
   "outputs": [
    {
     "data": {
      "text/plain": [
       "3"
      ]
     },
     "execution_count": 5,
     "metadata": {},
     "output_type": "execute_result"
    }
   ],
   "source": [
    "intreverse(3)"
   ]
  },
  {
   "cell_type": "code",
   "execution_count": 6,
   "metadata": {},
   "outputs": [
    {
     "data": {
      "text/plain": [
       "'\\n2. Write a function matched(s) that takes as input a string s and checks if the brackets \"(\" and \")\" in s are matched: that is, every \"(\" has a \\nmatching \")\" after it and every \")\" has a matching \"(\" before it. \\n Your function should ignore all other symbols that appear in s.  Your function should return True if s has matched brackets \\n and False if it does not.\\n\\nHere are some examples to show how your function should work.\\n\\n>>> matched(\"zb%78\")\\nTrue\\n>>> matched(\"(7)(a\")\\nFalse\\n>>> matched(\"a)*(?\")\\nFalse\\n>>> matched(\"((jkl)78(A)&l(8(dd(FJI:),):)?)\")\\nTrue\\n'"
      ]
     },
     "execution_count": 6,
     "metadata": {},
     "output_type": "execute_result"
    }
   ],
   "source": [
    "'''\n",
    "2. Write a function matched(s) that takes as input a string s and checks if the brackets \"(\" and \")\" in s are matched: that is, every \"(\" has a \n",
    "matching \")\" after it and every \")\" has a matching \"(\" before it. \n",
    " Your function should ignore all other symbols that appear in s.  Your function should return True if s has matched brackets \n",
    " and False if it does not.\n",
    "\n",
    "Here are some examples to show how your function should work.\n",
    "\n",
    ">>> matched(\"zb%78\")\n",
    "True\n",
    ">>> matched(\"(7)(a\")\n",
    "False\n",
    ">>> matched(\"a)*(?\")\n",
    "False\n",
    ">>> matched(\"((jkl)78(A)&l(8(dd(FJI:),):)?)\")\n",
    "True\n",
    "'''"
   ]
  },
  {
   "cell_type": "code",
   "execution_count": 7,
   "metadata": {},
   "outputs": [],
   "source": [
    "def matched(s: str) -> bool:\n",
    "    count_p = 0\n",
    "    for i in s:\n",
    "        if(i == \"(\"):\n",
    "            count_p = count_p+1\n",
    "        elif(i == \")\"):\n",
    "            if count_p:\n",
    "                count_p = count_p-1\n",
    "            else:\n",
    "                return False\n",
    "    return True if count_p == 0 else False\n"
   ]
  },
  {
   "cell_type": "code",
   "execution_count": 8,
   "metadata": {},
   "outputs": [
    {
     "data": {
      "text/plain": [
       "True"
      ]
     },
     "execution_count": 8,
     "metadata": {},
     "output_type": "execute_result"
    }
   ],
   "source": [
    "matched(\"((jkl)78(A)&l(8(dd(FJI:),):)?)\")\n"
   ]
  },
  {
   "cell_type": "code",
   "execution_count": 9,
   "metadata": {},
   "outputs": [
    {
     "data": {
      "text/plain": [
       "'\\n3. Write a function sumprimes(l) that takes as input a list of integers and retuns the sum of all the prime numbers in l.\\n\\nHere are some examples to show how your function should work.\\n\\n>>> sumprimes([3,3,1,13])\\n19\\n>>> sumprimes([2,4,6,9,11])\\n13\\n>>> sumprimes([-3,1,6])\\n0\\n'"
      ]
     },
     "execution_count": 9,
     "metadata": {},
     "output_type": "execute_result"
    }
   ],
   "source": [
    "'''\n",
    "3. Write a function sumprimes(l) that takes as input a list of integers and retuns the sum of all the prime numbers in l.\n",
    "\n",
    "Here are some examples to show how your function should work.\n",
    "\n",
    ">>> sumprimes([3,3,1,13])\n",
    "19\n",
    ">>> sumprimes([2,4,6,9,11])\n",
    "13\n",
    ">>> sumprimes([-3,1,6])\n",
    "0\n",
    "'''"
   ]
  },
  {
   "cell_type": "code",
   "execution_count": 10,
   "metadata": {},
   "outputs": [
    {
     "data": {
      "text/plain": [
       "0"
      ]
     },
     "execution_count": 10,
     "metadata": {},
     "output_type": "execute_result"
    }
   ],
   "source": [
    "def isPrime(n: int) -> bool:\n",
    "    temp = 1\n",
    "    if(n%2 == 0 and n!=2 or n==1 or n<0):\n",
    "        temp = 0\n",
    "    elif(n>2):\n",
    "        for i in range(3, n, 2):\n",
    "            if(n%i == 0):\n",
    "                temp = 0\n",
    "                break\n",
    "    return True if temp == 1 else False\n",
    "\n",
    "def sumprimes(a: list) -> int:\n",
    "    sum_p = 0\n",
    "    for i in a:\n",
    "        if isPrime(i):\n",
    "            sum_p += i\n",
    "    return sum_p\n",
    "\n",
    "sumprimes([-3,1,6])\n",
    "        \n",
    "        \n"
   ]
  }
 ],
 "metadata": {
  "kernelspec": {
   "display_name": "Python 3 (ipykernel)",
   "language": "python",
   "name": "python3"
  },
  "language_info": {
   "codemirror_mode": {
    "name": "ipython",
    "version": 3
   },
   "file_extension": ".py",
   "mimetype": "text/x-python",
   "name": "python",
   "nbconvert_exporter": "python",
   "pygments_lexer": "ipython3",
   "version": "3.10.8"
  }
 },
 "nbformat": 4,
 "nbformat_minor": 2
}
